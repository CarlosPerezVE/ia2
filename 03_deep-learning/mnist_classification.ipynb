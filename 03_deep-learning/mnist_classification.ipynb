{
 "cells": [
  {
   "cell_type": "markdown",
   "id": "e6dc5af6-51b2-43e0-9ff7-8133777fa7e7",
   "metadata": {},
   "source": [
    "# Neural Network for Handwritten Digit Recognition using the MNIST dataset"
   ]
  },
  {
   "cell_type": "markdown",
   "id": "9f9878b8-9dfa-48a7-99d8-9aa5bf9d5b38",
   "metadata": {},
   "source": [
    "## Loading the libraries"
   ]
  },
  {
   "cell_type": "code",
   "execution_count": 97,
   "id": "7cc644cb-242a-448a-b534-3dc05975ba97",
   "metadata": {},
   "outputs": [],
   "source": [
    "import tensorflow as tf\n",
    "from tensorflow import keras\n",
    "from tensorflow.keras import layers\n",
    "from tensorflow.keras.datasets import mnist\n",
    "from matplotlib import pyplot as plt"
   ]
  },
  {
   "cell_type": "markdown",
   "id": "0d7ab3df-cbb6-41c8-828b-a1e9697a0aac",
   "metadata": {},
   "source": [
    "## Loading the dataset"
   ]
  },
  {
   "cell_type": "code",
   "execution_count": 101,
   "id": "4ce87dfd-b311-4868-9059-862edd05ec7b",
   "metadata": {},
   "outputs": [],
   "source": [
    "(train_X, train_y), (test_X, test_y) = mnist.load_data()"
   ]
  },
  {
   "cell_type": "markdown",
   "id": "9d2493b3-02f4-4a50-af8e-b042712a6be6",
   "metadata": {},
   "source": [
    "### Summarize loaded dataset"
   ]
  },
  {
   "cell_type": "code",
   "execution_count": 102,
   "id": "760db425-e311-4f47-becd-0d74b0ae190f",
   "metadata": {},
   "outputs": [
    {
     "name": "stdout",
     "output_type": "stream",
     "text": [
      "Train: X=(60000, 28, 28), y=(60000,)\n",
      "Test: X=(10000, 28, 28), y=(10000,)\n"
     ]
    }
   ],
   "source": [
    "print('Train: X=%s, y=%s' % (train_X.shape, train_y.shape))\n",
    "print('Test: X=%s, y=%s' % (test_X.shape, test_y.shape))"
   ]
  },
  {
   "cell_type": "markdown",
   "id": "b0a47ea5-19ef-4976-b3ad-f6689cacb08f",
   "metadata": {},
   "source": [
    "### Let's plot some few images"
   ]
  },
  {
   "cell_type": "code",
   "execution_count": 103,
   "id": "ef43cddd-d2fd-4f70-877a-2724ecd0dc7f",
   "metadata": {},
   "outputs": [
    {
     "data": {
      "image/png": "[encoded data removed]",
      "text/plain": [
       "<Figure size 432x288 with 9 Axes>"
      ]
     },
     "metadata": {
      "needs_background": "light"
     },
     "output_type": "display_data"
    }
   ],
   "source": [
    "for i in range(9):\n",
    "\t# define subplot\n",
    "\tplt.subplot(330 + 1 + i)\n",
    "\t# plot raw pixel data\n",
    "\tplt.imshow(train_X[i], cmap=plt.get_cmap('gray'))\n",
    "# show the figure\n",
    "plt.show()"
   ]
  },
  {
   "cell_type": "markdown",
   "id": "a507f175-3d10-4a4b-afc5-615548f52d69",
   "metadata": {},
   "source": [
    "## Reshaping the data"
   ]
  },
  {
   "cell_type": "code",
   "execution_count": null,
   "id": "3ff2e69e-87e1-4c68-a2b2-0bd421ef49bc",
   "metadata": {},
   "outputs": [],
   "source": [
    "train_images = train_X.reshape((60000, 28 * 28))\n",
    "test_images = test_X.reshape((10000, 28 * 28))\n",
    "\n",
    "print('Train: X=%s, y=%s' % (train_images.shape, train_labels.shape))\n",
    "print('Test: X=%s, y=%s' % (test_images.shape, test_labels.shape))"
   ]
  },
  {
   "cell_type": "markdown",
   "id": "efc0bb1d-d8e8-4940-9a0f-8b7bc634b488",
   "metadata": {},
   "source": [
    "## Normalizing the data"
   ]
  },
  {
   "cell_type": "markdown",
   "id": "e1bdcb94-0689-4cbc-b548-b09ad43ffaae",
   "metadata": {},
   "source": [
    "The pixel values for each image in the dataset are unsigned integers in the range between black and white, or 0 and 255. The pixel values of grayscale images has to be rescaled to the range [0 , 1] This involves also converting the data type from unsigned integers to floats."
   ]
  },
  {
   "cell_type": "code",
   "execution_count": 105,
   "id": "4aa71498-54ce-4ead-a738-60dc9124e24a",
   "metadata": {},
   "outputs": [],
   "source": [
    "train_images = train_images.astype(\"float32\") / 255\n",
    "test_images = test_images.astype(\"float32\") / 255\n",
    "\n",
    "train_labels = train_y\n",
    "test_labels = test_y"
   ]
  },
  {
   "cell_type": "markdown",
   "id": "5557d064-3422-4ef6-a74f-133950f5424b",
   "metadata": {},
   "source": [
    "## The network architecture"
   ]
  },
  {
   "cell_type": "code",
   "execution_count": 113,
   "id": "783a8e09-9a72-4492-8c33-2fc6043fdbfa",
   "metadata": {},
   "outputs": [],
   "source": [
    "tf.random.set_seed(1234) # for consistent results\n",
    "model = keras.Sequential(\n",
    "    [   \n",
    "        layers.Dense(25, activation = 'relu'),\n",
    "        layers.Dense(15, activation = 'relu'),\n",
    "        layers.Dense(10, activation = 'softmax')    # < softmax activation here\n",
    "    ], name = \"mnist_model\" \n",
    ")"
   ]
  },
  {
   "cell_type": "markdown",
   "id": "a11868d7-f583-450c-aa4a-f7340b10703a",
   "metadata": {},
   "source": [
    "## The compilation step"
   ]
  },
  {
   "cell_type": "markdown",
   "id": "3f4cfb3c-ec3b-4a5c-9fdf-792910082cf1",
   "metadata": {},
   "source": [
    "Use only one of these methods"
   ]
  },
  {
   "cell_type": "markdown",
   "id": "726adaf4-9ee1-4392-95b7-b1af261673c9",
   "metadata": {},
   "source": [
    "### Method 1"
   ]
  },
  {
   "cell_type": "code",
   "execution_count": 114,
   "id": "7c866278-1d90-4813-8f15-ac8301a5e6d3",
   "metadata": {},
   "outputs": [],
   "source": [
    "model.compile(\n",
    "    loss=tf.keras.losses.SparseCategoricalCrossentropy(), #from_logits=True\n",
    "    optimizer=tf.keras.optimizers.Adam(learning_rate=0.001),\n",
    "    metrics=[\"accuracy\"])"
   ]
  },
  {
   "cell_type": "markdown",
   "id": "9b0a430a-9673-45e8-b924-ea51685360ce",
   "metadata": {},
   "source": [
    "### Method 2"
   ]
  },
  {
   "cell_type": "code",
   "execution_count": 89,
   "id": "49ba9d49-455e-429f-b06a-1b93bfa803e1",
   "metadata": {},
   "outputs": [],
   "source": [
    "model.compile(optimizer=\"rmsprop\",\n",
    "              loss=\"sparse_categorical_crossentropy\",\n",
    "              metrics=[\"accuracy\"])"
   ]
  },
  {
   "cell_type": "markdown",
   "id": "64659458-d3ab-4dbc-ae78-33212022a583",
   "metadata": {},
   "source": [
    "## Training the model"
   ]
  },
  {
   "cell_type": "code",
   "execution_count": 146,
   "id": "d92ff3a5-f1da-4422-a80c-b5eb5c800ffc",
   "metadata": {},
   "outputs": [
    {
     "name": "stdout",
     "output_type": "stream",
     "text": [
      "Epoch 1/20\n",
      "469/469 [==============================] - 0s 895us/step - loss: 0.0587 - accuracy: 0.9840\n",
      "Epoch 2/20\n",
      "469/469 [==============================] - 0s 893us/step - loss: 0.0468 - accuracy: 0.9864\n",
      "Epoch 3/20\n",
      "469/469 [==============================] - 0s 825us/step - loss: 0.0404 - accuracy: 0.9885\n",
      "Epoch 4/20\n",
      "469/469 [==============================] - 0s 924us/step - loss: 0.0365 - accuracy: 0.9890\n",
      "Epoch 5/20\n",
      "469/469 [==============================] - 0s 883us/step - loss: 0.0355 - accuracy: 0.9885\n",
      "Epoch 6/20\n",
      "469/469 [==============================] - 0s 873us/step - loss: 0.0345 - accuracy: 0.9893\n",
      "Epoch 7/20\n",
      "469/469 [==============================] - 0s 907us/step - loss: 0.0316 - accuracy: 0.9902\n",
      "Epoch 8/20\n",
      "469/469 [==============================] - 0s 866us/step - loss: 0.0306 - accuracy: 0.9905\n",
      "Epoch 9/20\n",
      "469/469 [==============================] - 0s 906us/step - loss: 0.0289 - accuracy: 0.9911\n",
      "Epoch 10/20\n",
      "469/469 [==============================] - 0s 923us/step - loss: 0.0290 - accuracy: 0.9912\n",
      "Epoch 11/20\n",
      "469/469 [==============================] - 0s 862us/step - loss: 0.0268 - accuracy: 0.9917\n",
      "Epoch 12/20\n",
      "469/469 [==============================] - 0s 852us/step - loss: 0.0271 - accuracy: 0.9915\n",
      "Epoch 13/20\n",
      "469/469 [==============================] - 0s 887us/step - loss: 0.0263 - accuracy: 0.9916\n",
      "Epoch 14/20\n",
      "469/469 [==============================] - 0s 844us/step - loss: 0.0248 - accuracy: 0.9921\n",
      "Epoch 15/20\n",
      "469/469 [==============================] - 0s 924us/step - loss: 0.0254 - accuracy: 0.9919\n",
      "Epoch 16/20\n",
      "469/469 [==============================] - 0s 874us/step - loss: 0.0251 - accuracy: 0.9921\n",
      "Epoch 17/20\n",
      "469/469 [==============================] - 0s 848us/step - loss: 0.0222 - accuracy: 0.9931\n",
      "Epoch 18/20\n",
      "469/469 [==============================] - 0s 823us/step - loss: 0.0235 - accuracy: 0.9924\n",
      "Epoch 19/20\n",
      "469/469 [==============================] - 0s 860us/step - loss: 0.0221 - accuracy: 0.9928\n",
      "Epoch 20/20\n",
      "469/469 [==============================] - 0s 850us/step - loss: 0.0209 - accuracy: 0.9934\n"
     ]
    }
   ],
   "source": [
    "history = model.fit(train_images, train_labels, epochs=20, batch_size=128) #, validation_split = 0.2"
   ]
  },
  {
   "cell_type": "markdown",
   "id": "f8e317ed-8d79-4c4c-a43a-8c26fc5b0c72",
   "metadata": {},
   "source": [
    "## Plotting"
   ]
  },
  {
   "cell_type": "code",
   "execution_count": 147,
   "id": "6a897509-2693-4643-9fd6-786d181e5b41",
   "metadata": {},
   "outputs": [
    {
     "data": {
      "image/png": "[encoded data removed]",
      "text/plain": [
       "<Figure size 432x288 with 2 Axes>"
      ]
     },
     "metadata": {
      "needs_background": "light"
     },
     "output_type": "display_data"
    }
   ],
   "source": [
    "# plot loss\n",
    "plt.subplot(2, 1, 1)\n",
    "plt.title('Cross Entropy Loss')\n",
    "plt.plot(history.history['loss'], color='blue', label='train')\n",
    "#plt.plot(history.history['val_loss'], color='orange', label='test')\n",
    "plt.ylabel('loss')\n",
    "plt.legend(['train', 'val'], loc='upper left')\n",
    "plt.grid()\n",
    "# plot accuracy\n",
    "plt.subplot(2, 1, 2)\n",
    "plt.title('Classification Accuracy')\n",
    "plt.plot(history.history['accuracy'], color='blue', label='train')\n",
    "#plt.plot(history.history['val_accuracy'], color='orange', label='test')\n",
    "plt.ylabel('accuracy')\n",
    "plt.xlabel('epoch')\n",
    "plt.legend(['train', 'val'], loc='upper left')\n",
    "plt.grid()\n",
    "plt.show()\n",
    " "
   ]
  },
  {
   "cell_type": "markdown",
   "id": "2cc89bbd-1ff6-48e7-95a8-b319a9b9c610",
   "metadata": {},
   "source": [
    "## Analysing the model"
   ]
  },
  {
   "cell_type": "markdown",
   "id": "6fac5a47-8b7a-4fd8-bf4f-94425d8d0f11",
   "metadata": {},
   "source": [
    "### Examining weights shapes"
   ]
  },
  {
   "cell_type": "code",
   "execution_count": 148,
   "id": "a09fd961-ad81-45bf-a3e1-bb323d733e2f",
   "metadata": {},
   "outputs": [
    {
     "name": "stdout",
     "output_type": "stream",
     "text": [
      "W1 shape = (784, 25), b1 shape = (25,)\n",
      "W2 shape = (25, 15), b2 shape = (15,)\n",
      "W3 shape = (15, 10), b3 shape = (10,)\n"
     ]
    }
   ],
   "source": [
    "[layer1, layer2, layer3] = model.layers\n",
    "\n",
    "W1,b1 = layer1.get_weights()\n",
    "W2,b2 = layer2.get_weights()\n",
    "W3,b3 = layer3.get_weights()\n",
    "\n",
    "print(f\"W1 shape = {W1.shape}, b1 shape = {b1.shape}\")\n",
    "print(f\"W2 shape = {W2.shape}, b2 shape = {b2.shape}\")\n",
    "print(f\"W3 shape = {W3.shape}, b3 shape = {b3.shape}\")"
   ]
  },
  {
   "cell_type": "markdown",
   "id": "26c42e38-d644-41c3-835a-a11c10b196fe",
   "metadata": {},
   "source": [
    "### Model summary"
   ]
  },
  {
   "cell_type": "code",
   "execution_count": 149,
   "id": "ec48837b-8f4d-4836-9b65-81b3ec63f39d",
   "metadata": {},
   "outputs": [
    {
     "name": "stdout",
     "output_type": "stream",
     "text": [
      "Model: \"mnist_model\"\n",
      "_________________________________________________________________\n",
      " Layer (type)                Output Shape              Param #   \n",
      "=================================================================\n",
      " dense_12 (Dense)            (None, 25)                19625     \n",
      "                                                                 \n",
      " dense_13 (Dense)            (None, 15)                390       \n",
      "                                                                 \n",
      " dense_14 (Dense)            (None, 10)                160       \n",
      "                                                                 \n",
      "=================================================================\n",
      "Total params: 20,175\n",
      "Trainable params: 20,175\n",
      "Non-trainable params: 0\n",
      "_________________________________________________________________\n"
     ]
    }
   ],
   "source": [
    "model.summary()"
   ]
  },
  {
   "cell_type": "markdown",
   "id": "38fae55d-1797-417d-a57d-5e2403139895",
   "metadata": {},
   "source": [
    "## Testing the model on new data "
   ]
  },
  {
   "cell_type": "markdown",
   "id": "87fd83bb-fe29-45ca-b52f-14b1b1548127",
   "metadata": {},
   "source": [
    "What is the accuracy of the testing step?"
   ]
  },
  {
   "cell_type": "code",
   "execution_count": 150,
   "id": "7d86f564-c48b-4d93-8eda-f6aaa0c4aad2",
   "metadata": {},
   "outputs": [
    {
     "name": "stdout",
     "output_type": "stream",
     "text": [
      "313/313 [==============================] - 0s 587us/step - loss: 0.2037 - accuracy: 0.9632\n",
      "test_acc: 0.9631999731063843\n"
     ]
    }
   ],
   "source": [
    "test_loss, test_acc = model.evaluate(test_images, test_labels)\n",
    "print(f\"test_acc: {test_acc}\")"
   ]
  },
  {
   "cell_type": "markdown",
   "id": "84333bf0-d494-4391-956b-17d26d324465",
   "metadata": {},
   "source": [
    "## Using the model to make predictions "
   ]
  },
  {
   "cell_type": "code",
   "execution_count": 81,
   "id": "34c55d44-50c0-4286-8fa1-13d9986070ad",
   "metadata": {},
   "outputs": [
    {
     "name": "stdout",
     "output_type": "stream",
     "text": [
      "1/1 [==============================] - 0s 13ms/step\n"
     ]
    },
    {
     "data": {
      "text/plain": [
       "array([1.2984315e-08, 2.6523919e-10, 6.6203306e-06, 5.9294875e-04,\n",
       "       1.5553175e-12, 5.8397501e-07, 3.1773819e-13, 9.9939859e-01,\n",
       "       2.5168052e-07, 9.0921918e-07], dtype=float32)"
      ]
     },
     "execution_count": 81,
     "metadata": {},
     "output_type": "execute_result"
    }
   ],
   "source": [
    "test_digits = test_images[0:10]\n",
    "predictions = model.predict(test_digits)"
   ]
  },
  {
   "cell_type": "markdown",
   "id": "7fbc936e-3a00-4302-927e-91afb52d46b1",
   "metadata": {},
   "source": [
    "### Let's choose a label from 0 to 10"
   ]
  },
  {
   "cell_type": "code",
   "execution_count": 111,
   "id": "41ff6461-fb2e-42f5-88cf-d19849b5027e",
   "metadata": {},
   "outputs": [],
   "source": [
    "label = 0"
   ]
  },
  {
   "cell_type": "code",
   "execution_count": 112,
   "id": "bbe2c39e-4df3-42d0-92aa-a11af32d8337",
   "metadata": {},
   "outputs": [
    {
     "data": {
      "text/plain": [
       "0.9993986"
      ]
     },
     "execution_count": 112,
     "metadata": {},
     "output_type": "execute_result"
    }
   ],
   "source": [
    "predictions[label]\n",
    "test_labels[label]\n",
    "predictions[label].argmax()\n",
    "predictions[label][7]"
   ]
  },
  {
   "cell_type": "code",
   "execution_count": 82,
   "id": "d238cfe4-f463-4104-a2ff-d281e5666828",
   "metadata": {},
   "outputs": [
    {
     "data": {
      "text/plain": [
       "7"
      ]
     },
     "execution_count": 82,
     "metadata": {},
     "output_type": "execute_result"
    }
   ],
   "source": []
  },
  {
   "cell_type": "code",
   "execution_count": 83,
   "id": "3f77383b-d2ef-4c01-b1a7-bc63091cb8f4",
   "metadata": {},
   "outputs": [
    {
     "data": {
      "text/plain": [
       "7"
      ]
     },
     "execution_count": 83,
     "metadata": {},
     "output_type": "execute_result"
    }
   ],
   "source": []
  },
  {
   "cell_type": "code",
   "execution_count": 84,
   "id": "879c232a-04b1-40cb-8cf9-2f4c9b3c572f",
   "metadata": {},
   "outputs": [
    {
     "data": {
      "text/plain": [
       "0.9993986"
      ]
     },
     "execution_count": 84,
     "metadata": {},
     "output_type": "execute_result"
    }
   ],
   "source": []
  },
  {
   "cell_type": "code",
   "execution_count": null,
   "id": "72e0f35c-1211-471a-9099-b3cf0960bfc2",
   "metadata": {},
   "outputs": [],
   "source": []
  }
 ],
 "metadata": {
  "kernelspec": {
   "display_name": "Python 3 (ipykernel)",
   "language": "python",
   "name": "python3"
  },
  "language_info": {
   "codemirror_mode": {
    "name": "ipython",
    "version": 3
   },
   "file_extension": ".py",
   "mimetype": "text/x-python",
   "name": "python",
   "nbconvert_exporter": "python",
   "pygments_lexer": "ipython3",
   "version": "3.10.6"
  }
 },
 "nbformat": 4,
 "nbformat_minor": 5
}
